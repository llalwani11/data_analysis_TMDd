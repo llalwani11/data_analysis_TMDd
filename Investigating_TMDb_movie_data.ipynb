{
 "cells": [
  {
   "cell_type": "markdown",
   "metadata": {},
   "source": [
    "# Project: Investigating TMDb movie data\n",
    "\n",
    "--------------"
   ]
  },
  {
   "cell_type": "markdown",
   "metadata": {},
   "source": [
    "## Table of Contents\n",
    "<ul>\n",
    "<li><a href=\"#intro\">Introduction</a></li>\n",
    "<li><a href=\"#wrangling\">Data Wrangling</a></li>\n",
    "<li><a href=\"#eda\">Exploratory Data Analysis</a></li>\n",
    "<li><a href=\"#conclusions\">Conclusions</a></li>\n",
    "</ul>\n",
    "\n",
    "--------------"
   ]
  },
  {
   "cell_type": "markdown",
   "metadata": {},
   "source": [
    "<a id='intro'></a>\n",
    "## Introduction\n",
    "\n",
    "This data set contains information of about 10,000 movies. It includes information such as budget, revenue, cast, director, ratings and revenue. The data is from The Movie Database (TMDb).\n",
    "\n",
    "This report will analyze this data focusing on the performance of movies to uncover answers to the following questions:\n",
    "\n",
    "**Q1. How is the performance of a movie influenced by it's genre?**\n",
    "\n",
    "**Q2. How is the performance of a movie influenced by it's runtime?**"
   ]
  },
  {
   "cell_type": "code",
   "execution_count": 104,
   "metadata": {},
   "outputs": [],
   "source": [
    "# Import required libraries to perform the analysis.\n",
    "\n",
    "import pandas as pd\n",
    "import numpy as np\n",
    "import matplotlib.pyplot as plt\n",
    "%matplotlib inline"
   ]
  },
  {
   "cell_type": "markdown",
   "metadata": {},
   "source": [
    "--------------"
   ]
  },
  {
   "cell_type": "markdown",
   "metadata": {},
   "source": [
    "<a id='wrangling'></a>\n",
    "## Data Wrangling\n",
    "\n",
    "This section of the report will detail steps taken to understand and clean the data to prepare for analysis."
   ]
  },
  {
   "cell_type": "markdown",
   "metadata": {},
   "source": [
    "### General Properties\n",
    "\n",
    "The following are steps taken to understand the data, it's properties and any problems with the data:\n",
    "\n",
    "- visually check first few records of the data\n",
    "- check the data types, sizes and missing values\n",
    "- check for duplicates\n",
    "- check for outliers"
   ]
  },
  {
   "cell_type": "code",
   "execution_count": 105,
   "metadata": {},
   "outputs": [
    {
     "data": {
      "text/html": [
       "<div>\n",
       "<style scoped>\n",
       "    .dataframe tbody tr th:only-of-type {\n",
       "        vertical-align: middle;\n",
       "    }\n",
       "\n",
       "    .dataframe tbody tr th {\n",
       "        vertical-align: top;\n",
       "    }\n",
       "\n",
       "    .dataframe thead th {\n",
       "        text-align: right;\n",
       "    }\n",
       "</style>\n",
       "<table border=\"1\" class=\"dataframe\">\n",
       "  <thead>\n",
       "    <tr style=\"text-align: right;\">\n",
       "      <th></th>\n",
       "      <th>id</th>\n",
       "      <th>imdb_id</th>\n",
       "      <th>popularity</th>\n",
       "      <th>budget</th>\n",
       "      <th>revenue</th>\n",
       "      <th>original_title</th>\n",
       "      <th>cast</th>\n",
       "      <th>homepage</th>\n",
       "      <th>director</th>\n",
       "      <th>tagline</th>\n",
       "      <th>...</th>\n",
       "      <th>overview</th>\n",
       "      <th>runtime</th>\n",
       "      <th>genres</th>\n",
       "      <th>production_companies</th>\n",
       "      <th>release_date</th>\n",
       "      <th>vote_count</th>\n",
       "      <th>vote_average</th>\n",
       "      <th>release_year</th>\n",
       "      <th>budget_adj</th>\n",
       "      <th>revenue_adj</th>\n",
       "    </tr>\n",
       "  </thead>\n",
       "  <tbody>\n",
       "    <tr>\n",
       "      <th>0</th>\n",
       "      <td>135397</td>\n",
       "      <td>tt0369610</td>\n",
       "      <td>32.985763</td>\n",
       "      <td>150000000</td>\n",
       "      <td>1513528810</td>\n",
       "      <td>Jurassic World</td>\n",
       "      <td>Chris Pratt|Bryce Dallas Howard|Irrfan Khan|Vi...</td>\n",
       "      <td>http://www.jurassicworld.com/</td>\n",
       "      <td>Colin Trevorrow</td>\n",
       "      <td>The park is open.</td>\n",
       "      <td>...</td>\n",
       "      <td>Twenty-two years after the events of Jurassic ...</td>\n",
       "      <td>124</td>\n",
       "      <td>Action|Adventure|Science Fiction|Thriller</td>\n",
       "      <td>Universal Studios|Amblin Entertainment|Legenda...</td>\n",
       "      <td>6/9/15</td>\n",
       "      <td>5562</td>\n",
       "      <td>6.5</td>\n",
       "      <td>2015</td>\n",
       "      <td>1.379999e+08</td>\n",
       "      <td>1.392446e+09</td>\n",
       "    </tr>\n",
       "    <tr>\n",
       "      <th>1</th>\n",
       "      <td>76341</td>\n",
       "      <td>tt1392190</td>\n",
       "      <td>28.419936</td>\n",
       "      <td>150000000</td>\n",
       "      <td>378436354</td>\n",
       "      <td>Mad Max: Fury Road</td>\n",
       "      <td>Tom Hardy|Charlize Theron|Hugh Keays-Byrne|Nic...</td>\n",
       "      <td>http://www.madmaxmovie.com/</td>\n",
       "      <td>George Miller</td>\n",
       "      <td>What a Lovely Day.</td>\n",
       "      <td>...</td>\n",
       "      <td>An apocalyptic story set in the furthest reach...</td>\n",
       "      <td>120</td>\n",
       "      <td>Action|Adventure|Science Fiction|Thriller</td>\n",
       "      <td>Village Roadshow Pictures|Kennedy Miller Produ...</td>\n",
       "      <td>5/13/15</td>\n",
       "      <td>6185</td>\n",
       "      <td>7.1</td>\n",
       "      <td>2015</td>\n",
       "      <td>1.379999e+08</td>\n",
       "      <td>3.481613e+08</td>\n",
       "    </tr>\n",
       "    <tr>\n",
       "      <th>2</th>\n",
       "      <td>262500</td>\n",
       "      <td>tt2908446</td>\n",
       "      <td>13.112507</td>\n",
       "      <td>110000000</td>\n",
       "      <td>295238201</td>\n",
       "      <td>Insurgent</td>\n",
       "      <td>Shailene Woodley|Theo James|Kate Winslet|Ansel...</td>\n",
       "      <td>http://www.thedivergentseries.movie/#insurgent</td>\n",
       "      <td>Robert Schwentke</td>\n",
       "      <td>One Choice Can Destroy You</td>\n",
       "      <td>...</td>\n",
       "      <td>Beatrice Prior must confront her inner demons ...</td>\n",
       "      <td>119</td>\n",
       "      <td>Adventure|Science Fiction|Thriller</td>\n",
       "      <td>Summit Entertainment|Mandeville Films|Red Wago...</td>\n",
       "      <td>3/18/15</td>\n",
       "      <td>2480</td>\n",
       "      <td>6.3</td>\n",
       "      <td>2015</td>\n",
       "      <td>1.012000e+08</td>\n",
       "      <td>2.716190e+08</td>\n",
       "    </tr>\n",
       "    <tr>\n",
       "      <th>3</th>\n",
       "      <td>140607</td>\n",
       "      <td>tt2488496</td>\n",
       "      <td>11.173104</td>\n",
       "      <td>200000000</td>\n",
       "      <td>2068178225</td>\n",
       "      <td>Star Wars: The Force Awakens</td>\n",
       "      <td>Harrison Ford|Mark Hamill|Carrie Fisher|Adam D...</td>\n",
       "      <td>http://www.starwars.com/films/star-wars-episod...</td>\n",
       "      <td>J.J. Abrams</td>\n",
       "      <td>Every generation has a story.</td>\n",
       "      <td>...</td>\n",
       "      <td>Thirty years after defeating the Galactic Empi...</td>\n",
       "      <td>136</td>\n",
       "      <td>Action|Adventure|Science Fiction|Fantasy</td>\n",
       "      <td>Lucasfilm|Truenorth Productions|Bad Robot</td>\n",
       "      <td>12/15/15</td>\n",
       "      <td>5292</td>\n",
       "      <td>7.5</td>\n",
       "      <td>2015</td>\n",
       "      <td>1.839999e+08</td>\n",
       "      <td>1.902723e+09</td>\n",
       "    </tr>\n",
       "    <tr>\n",
       "      <th>4</th>\n",
       "      <td>168259</td>\n",
       "      <td>tt2820852</td>\n",
       "      <td>9.335014</td>\n",
       "      <td>190000000</td>\n",
       "      <td>1506249360</td>\n",
       "      <td>Furious 7</td>\n",
       "      <td>Vin Diesel|Paul Walker|Jason Statham|Michelle ...</td>\n",
       "      <td>http://www.furious7.com/</td>\n",
       "      <td>James Wan</td>\n",
       "      <td>Vengeance Hits Home</td>\n",
       "      <td>...</td>\n",
       "      <td>Deckard Shaw seeks revenge against Dominic Tor...</td>\n",
       "      <td>137</td>\n",
       "      <td>Action|Crime|Thriller</td>\n",
       "      <td>Universal Pictures|Original Film|Media Rights ...</td>\n",
       "      <td>4/1/15</td>\n",
       "      <td>2947</td>\n",
       "      <td>7.3</td>\n",
       "      <td>2015</td>\n",
       "      <td>1.747999e+08</td>\n",
       "      <td>1.385749e+09</td>\n",
       "    </tr>\n",
       "  </tbody>\n",
       "</table>\n",
       "<p>5 rows × 21 columns</p>\n",
       "</div>"
      ],
      "text/plain": [
       "       id    imdb_id  popularity     budget     revenue  \\\n",
       "0  135397  tt0369610   32.985763  150000000  1513528810   \n",
       "1   76341  tt1392190   28.419936  150000000   378436354   \n",
       "2  262500  tt2908446   13.112507  110000000   295238201   \n",
       "3  140607  tt2488496   11.173104  200000000  2068178225   \n",
       "4  168259  tt2820852    9.335014  190000000  1506249360   \n",
       "\n",
       "                 original_title  \\\n",
       "0                Jurassic World   \n",
       "1            Mad Max: Fury Road   \n",
       "2                     Insurgent   \n",
       "3  Star Wars: The Force Awakens   \n",
       "4                     Furious 7   \n",
       "\n",
       "                                                cast  \\\n",
       "0  Chris Pratt|Bryce Dallas Howard|Irrfan Khan|Vi...   \n",
       "1  Tom Hardy|Charlize Theron|Hugh Keays-Byrne|Nic...   \n",
       "2  Shailene Woodley|Theo James|Kate Winslet|Ansel...   \n",
       "3  Harrison Ford|Mark Hamill|Carrie Fisher|Adam D...   \n",
       "4  Vin Diesel|Paul Walker|Jason Statham|Michelle ...   \n",
       "\n",
       "                                            homepage          director  \\\n",
       "0                      http://www.jurassicworld.com/   Colin Trevorrow   \n",
       "1                        http://www.madmaxmovie.com/     George Miller   \n",
       "2     http://www.thedivergentseries.movie/#insurgent  Robert Schwentke   \n",
       "3  http://www.starwars.com/films/star-wars-episod...       J.J. Abrams   \n",
       "4                           http://www.furious7.com/         James Wan   \n",
       "\n",
       "                         tagline  ...  \\\n",
       "0              The park is open.  ...   \n",
       "1             What a Lovely Day.  ...   \n",
       "2     One Choice Can Destroy You  ...   \n",
       "3  Every generation has a story.  ...   \n",
       "4            Vengeance Hits Home  ...   \n",
       "\n",
       "                                            overview runtime  \\\n",
       "0  Twenty-two years after the events of Jurassic ...     124   \n",
       "1  An apocalyptic story set in the furthest reach...     120   \n",
       "2  Beatrice Prior must confront her inner demons ...     119   \n",
       "3  Thirty years after defeating the Galactic Empi...     136   \n",
       "4  Deckard Shaw seeks revenge against Dominic Tor...     137   \n",
       "\n",
       "                                      genres  \\\n",
       "0  Action|Adventure|Science Fiction|Thriller   \n",
       "1  Action|Adventure|Science Fiction|Thriller   \n",
       "2         Adventure|Science Fiction|Thriller   \n",
       "3   Action|Adventure|Science Fiction|Fantasy   \n",
       "4                      Action|Crime|Thriller   \n",
       "\n",
       "                                production_companies release_date vote_count  \\\n",
       "0  Universal Studios|Amblin Entertainment|Legenda...       6/9/15       5562   \n",
       "1  Village Roadshow Pictures|Kennedy Miller Produ...      5/13/15       6185   \n",
       "2  Summit Entertainment|Mandeville Films|Red Wago...      3/18/15       2480   \n",
       "3          Lucasfilm|Truenorth Productions|Bad Robot     12/15/15       5292   \n",
       "4  Universal Pictures|Original Film|Media Rights ...       4/1/15       2947   \n",
       "\n",
       "   vote_average  release_year    budget_adj   revenue_adj  \n",
       "0           6.5          2015  1.379999e+08  1.392446e+09  \n",
       "1           7.1          2015  1.379999e+08  3.481613e+08  \n",
       "2           6.3          2015  1.012000e+08  2.716190e+08  \n",
       "3           7.5          2015  1.839999e+08  1.902723e+09  \n",
       "4           7.3          2015  1.747999e+08  1.385749e+09  \n",
       "\n",
       "[5 rows x 21 columns]"
      ]
     },
     "execution_count": 105,
     "metadata": {},
     "output_type": "execute_result"
    }
   ],
   "source": [
    "# Load the movie data set and check the first few records\n",
    "\n",
    "df_movies = pd.read_csv('tmdb-movies.csv')\n",
    "df_movies.head()"
   ]
  },
  {
   "cell_type": "code",
   "execution_count": 106,
   "metadata": {},
   "outputs": [
    {
     "name": "stdout",
     "output_type": "stream",
     "text": [
      "<class 'pandas.core.frame.DataFrame'>\n",
      "RangeIndex: 10866 entries, 0 to 10865\n",
      "Data columns (total 21 columns):\n",
      "id                      10866 non-null int64\n",
      "imdb_id                 10856 non-null object\n",
      "popularity              10866 non-null float64\n",
      "budget                  10866 non-null int64\n",
      "revenue                 10866 non-null int64\n",
      "original_title          10866 non-null object\n",
      "cast                    10790 non-null object\n",
      "homepage                2936 non-null object\n",
      "director                10822 non-null object\n",
      "tagline                 8042 non-null object\n",
      "keywords                9373 non-null object\n",
      "overview                10862 non-null object\n",
      "runtime                 10866 non-null int64\n",
      "genres                  10843 non-null object\n",
      "production_companies    9836 non-null object\n",
      "release_date            10866 non-null object\n",
      "vote_count              10866 non-null int64\n",
      "vote_average            10866 non-null float64\n",
      "release_year            10866 non-null int64\n",
      "budget_adj              10866 non-null float64\n",
      "revenue_adj             10866 non-null float64\n",
      "dtypes: float64(4), int64(6), object(11)\n",
      "memory usage: 1.7+ MB\n"
     ]
    }
   ],
   "source": [
    "# Check the datatypes, size and missing values\n",
    "\n",
    "df_movies.info()"
   ]
  },
  {
   "cell_type": "code",
   "execution_count": 107,
   "metadata": {},
   "outputs": [
    {
     "data": {
      "text/plain": [
       "1"
      ]
     },
     "execution_count": 107,
     "metadata": {},
     "output_type": "execute_result"
    }
   ],
   "source": [
    "# Check for duplicate rows\n",
    "\n",
    "sum(df_movies.duplicated())"
   ]
  },
  {
   "cell_type": "code",
   "execution_count": 108,
   "metadata": {},
   "outputs": [
    {
     "data": {
      "text/html": [
       "<div>\n",
       "<style scoped>\n",
       "    .dataframe tbody tr th:only-of-type {\n",
       "        vertical-align: middle;\n",
       "    }\n",
       "\n",
       "    .dataframe tbody tr th {\n",
       "        vertical-align: top;\n",
       "    }\n",
       "\n",
       "    .dataframe thead th {\n",
       "        text-align: right;\n",
       "    }\n",
       "</style>\n",
       "<table border=\"1\" class=\"dataframe\">\n",
       "  <thead>\n",
       "    <tr style=\"text-align: right;\">\n",
       "      <th></th>\n",
       "      <th>id</th>\n",
       "      <th>popularity</th>\n",
       "      <th>budget</th>\n",
       "      <th>revenue</th>\n",
       "      <th>runtime</th>\n",
       "      <th>vote_count</th>\n",
       "      <th>vote_average</th>\n",
       "      <th>release_year</th>\n",
       "      <th>budget_adj</th>\n",
       "      <th>revenue_adj</th>\n",
       "    </tr>\n",
       "  </thead>\n",
       "  <tbody>\n",
       "    <tr>\n",
       "      <th>count</th>\n",
       "      <td>10866.000000</td>\n",
       "      <td>10866.000000</td>\n",
       "      <td>1.086600e+04</td>\n",
       "      <td>1.086600e+04</td>\n",
       "      <td>10866.000000</td>\n",
       "      <td>10866.000000</td>\n",
       "      <td>10866.000000</td>\n",
       "      <td>10866.000000</td>\n",
       "      <td>1.086600e+04</td>\n",
       "      <td>1.086600e+04</td>\n",
       "    </tr>\n",
       "    <tr>\n",
       "      <th>mean</th>\n",
       "      <td>66064.177434</td>\n",
       "      <td>0.646441</td>\n",
       "      <td>1.462570e+07</td>\n",
       "      <td>3.982332e+07</td>\n",
       "      <td>102.070863</td>\n",
       "      <td>217.389748</td>\n",
       "      <td>5.974922</td>\n",
       "      <td>2001.322658</td>\n",
       "      <td>1.755104e+07</td>\n",
       "      <td>5.136436e+07</td>\n",
       "    </tr>\n",
       "    <tr>\n",
       "      <th>std</th>\n",
       "      <td>92130.136561</td>\n",
       "      <td>1.000185</td>\n",
       "      <td>3.091321e+07</td>\n",
       "      <td>1.170035e+08</td>\n",
       "      <td>31.381405</td>\n",
       "      <td>575.619058</td>\n",
       "      <td>0.935142</td>\n",
       "      <td>12.812941</td>\n",
       "      <td>3.430616e+07</td>\n",
       "      <td>1.446325e+08</td>\n",
       "    </tr>\n",
       "    <tr>\n",
       "      <th>min</th>\n",
       "      <td>5.000000</td>\n",
       "      <td>0.000065</td>\n",
       "      <td>0.000000e+00</td>\n",
       "      <td>0.000000e+00</td>\n",
       "      <td>0.000000</td>\n",
       "      <td>10.000000</td>\n",
       "      <td>1.500000</td>\n",
       "      <td>1960.000000</td>\n",
       "      <td>0.000000e+00</td>\n",
       "      <td>0.000000e+00</td>\n",
       "    </tr>\n",
       "    <tr>\n",
       "      <th>25%</th>\n",
       "      <td>10596.250000</td>\n",
       "      <td>0.207583</td>\n",
       "      <td>0.000000e+00</td>\n",
       "      <td>0.000000e+00</td>\n",
       "      <td>90.000000</td>\n",
       "      <td>17.000000</td>\n",
       "      <td>5.400000</td>\n",
       "      <td>1995.000000</td>\n",
       "      <td>0.000000e+00</td>\n",
       "      <td>0.000000e+00</td>\n",
       "    </tr>\n",
       "    <tr>\n",
       "      <th>50%</th>\n",
       "      <td>20669.000000</td>\n",
       "      <td>0.383856</td>\n",
       "      <td>0.000000e+00</td>\n",
       "      <td>0.000000e+00</td>\n",
       "      <td>99.000000</td>\n",
       "      <td>38.000000</td>\n",
       "      <td>6.000000</td>\n",
       "      <td>2006.000000</td>\n",
       "      <td>0.000000e+00</td>\n",
       "      <td>0.000000e+00</td>\n",
       "    </tr>\n",
       "    <tr>\n",
       "      <th>75%</th>\n",
       "      <td>75610.000000</td>\n",
       "      <td>0.713817</td>\n",
       "      <td>1.500000e+07</td>\n",
       "      <td>2.400000e+07</td>\n",
       "      <td>111.000000</td>\n",
       "      <td>145.750000</td>\n",
       "      <td>6.600000</td>\n",
       "      <td>2011.000000</td>\n",
       "      <td>2.085325e+07</td>\n",
       "      <td>3.369710e+07</td>\n",
       "    </tr>\n",
       "    <tr>\n",
       "      <th>max</th>\n",
       "      <td>417859.000000</td>\n",
       "      <td>32.985763</td>\n",
       "      <td>4.250000e+08</td>\n",
       "      <td>2.781506e+09</td>\n",
       "      <td>900.000000</td>\n",
       "      <td>9767.000000</td>\n",
       "      <td>9.200000</td>\n",
       "      <td>2015.000000</td>\n",
       "      <td>4.250000e+08</td>\n",
       "      <td>2.827124e+09</td>\n",
       "    </tr>\n",
       "  </tbody>\n",
       "</table>\n",
       "</div>"
      ],
      "text/plain": [
       "                  id    popularity        budget       revenue       runtime  \\\n",
       "count   10866.000000  10866.000000  1.086600e+04  1.086600e+04  10866.000000   \n",
       "mean    66064.177434      0.646441  1.462570e+07  3.982332e+07    102.070863   \n",
       "std     92130.136561      1.000185  3.091321e+07  1.170035e+08     31.381405   \n",
       "min         5.000000      0.000065  0.000000e+00  0.000000e+00      0.000000   \n",
       "25%     10596.250000      0.207583  0.000000e+00  0.000000e+00     90.000000   \n",
       "50%     20669.000000      0.383856  0.000000e+00  0.000000e+00     99.000000   \n",
       "75%     75610.000000      0.713817  1.500000e+07  2.400000e+07    111.000000   \n",
       "max    417859.000000     32.985763  4.250000e+08  2.781506e+09    900.000000   \n",
       "\n",
       "         vote_count  vote_average  release_year    budget_adj   revenue_adj  \n",
       "count  10866.000000  10866.000000  10866.000000  1.086600e+04  1.086600e+04  \n",
       "mean     217.389748      5.974922   2001.322658  1.755104e+07  5.136436e+07  \n",
       "std      575.619058      0.935142     12.812941  3.430616e+07  1.446325e+08  \n",
       "min       10.000000      1.500000   1960.000000  0.000000e+00  0.000000e+00  \n",
       "25%       17.000000      5.400000   1995.000000  0.000000e+00  0.000000e+00  \n",
       "50%       38.000000      6.000000   2006.000000  0.000000e+00  0.000000e+00  \n",
       "75%      145.750000      6.600000   2011.000000  2.085325e+07  3.369710e+07  \n",
       "max     9767.000000      9.200000   2015.000000  4.250000e+08  2.827124e+09  "
      ]
     },
     "execution_count": 108,
     "metadata": {},
     "output_type": "execute_result"
    }
   ],
   "source": [
    "# Check for outliers\n",
    "\n",
    "df_movies.describe()"
   ]
  },
  {
   "cell_type": "markdown",
   "metadata": {},
   "source": [
    "#### Observations and Cleaning Suggestions\n",
    "\n",
    "1. **Unnecessary Attributes** - Based on the questions being answered in this report there are many attributes in this dataset that are not necessary. These are `id`, `imdb_id`, `budget`, `revenue`, `original_title`, `cast`, `homepage`, `director`, `tagline`, `keywords`, `overview`, `production_companies`, `vote_count`, `release_date`, and `release_year`. These attributed can be removed for analysis.\n",
    "\n",
    "\n",
    "2. **Missing Values** - From the relevant attributes, the `genres` attribute is missing some data. Relevant attributes are the ones not present in the unnecessary attributes list above. Records with missing data can be removed for analysis.\n",
    "\n",
    "\n",
    "3. **Duplicate Row** - There is one duplicate row that can be removed.\n",
    "\n",
    "\n",
    "4. **Outliers** - For the `runtime`, `revenue_adj` and `budget_adj` attributes, the minimum value of 0 can be considered outliers and removed.\n",
    "\n",
    "\n",
    "5. **Profit attribute** - To answer the questions, we are also interested in the profit that each movie makes. Assuming that the entire budget of the movies are used up, we can calculate profit into a new attribute based on the attributes `budget_adj` and `revenue_adj`. After calculating the profit, we can safely remove the `budget_adj` and `revenue_adj` attributes.\n",
    "\n",
    "\n",
    "6. **Genre attribute** - The data types of the relevant attributes are clean. However, the values of `genres` are organized in a way that's hard to analyze. To clean it up, a new dataframe can be created, where the `genre` attribute only has 1 value per row.\n"
   ]
  },
  {
   "cell_type": "markdown",
   "metadata": {},
   "source": [
    "### Data Cleaning Based on Obersations\n",
    "\n",
    "The steps below performs the data cleaning based on the problems observed."
   ]
  },
  {
   "cell_type": "code",
   "execution_count": 109,
   "metadata": {},
   "outputs": [
    {
     "data": {
      "text/html": [
       "<div>\n",
       "<style scoped>\n",
       "    .dataframe tbody tr th:only-of-type {\n",
       "        vertical-align: middle;\n",
       "    }\n",
       "\n",
       "    .dataframe tbody tr th {\n",
       "        vertical-align: top;\n",
       "    }\n",
       "\n",
       "    .dataframe thead th {\n",
       "        text-align: right;\n",
       "    }\n",
       "</style>\n",
       "<table border=\"1\" class=\"dataframe\">\n",
       "  <thead>\n",
       "    <tr style=\"text-align: right;\">\n",
       "      <th></th>\n",
       "      <th>popularity</th>\n",
       "      <th>runtime</th>\n",
       "      <th>genres</th>\n",
       "      <th>vote_average</th>\n",
       "      <th>budget_adj</th>\n",
       "      <th>revenue_adj</th>\n",
       "    </tr>\n",
       "  </thead>\n",
       "  <tbody>\n",
       "    <tr>\n",
       "      <th>0</th>\n",
       "      <td>32.985763</td>\n",
       "      <td>124</td>\n",
       "      <td>Action|Adventure|Science Fiction|Thriller</td>\n",
       "      <td>6.5</td>\n",
       "      <td>1.379999e+08</td>\n",
       "      <td>1.392446e+09</td>\n",
       "    </tr>\n",
       "    <tr>\n",
       "      <th>1</th>\n",
       "      <td>28.419936</td>\n",
       "      <td>120</td>\n",
       "      <td>Action|Adventure|Science Fiction|Thriller</td>\n",
       "      <td>7.1</td>\n",
       "      <td>1.379999e+08</td>\n",
       "      <td>3.481613e+08</td>\n",
       "    </tr>\n",
       "    <tr>\n",
       "      <th>2</th>\n",
       "      <td>13.112507</td>\n",
       "      <td>119</td>\n",
       "      <td>Adventure|Science Fiction|Thriller</td>\n",
       "      <td>6.3</td>\n",
       "      <td>1.012000e+08</td>\n",
       "      <td>2.716190e+08</td>\n",
       "    </tr>\n",
       "    <tr>\n",
       "      <th>3</th>\n",
       "      <td>11.173104</td>\n",
       "      <td>136</td>\n",
       "      <td>Action|Adventure|Science Fiction|Fantasy</td>\n",
       "      <td>7.5</td>\n",
       "      <td>1.839999e+08</td>\n",
       "      <td>1.902723e+09</td>\n",
       "    </tr>\n",
       "    <tr>\n",
       "      <th>4</th>\n",
       "      <td>9.335014</td>\n",
       "      <td>137</td>\n",
       "      <td>Action|Crime|Thriller</td>\n",
       "      <td>7.3</td>\n",
       "      <td>1.747999e+08</td>\n",
       "      <td>1.385749e+09</td>\n",
       "    </tr>\n",
       "  </tbody>\n",
       "</table>\n",
       "</div>"
      ],
      "text/plain": [
       "   popularity  runtime                                     genres  \\\n",
       "0   32.985763      124  Action|Adventure|Science Fiction|Thriller   \n",
       "1   28.419936      120  Action|Adventure|Science Fiction|Thriller   \n",
       "2   13.112507      119         Adventure|Science Fiction|Thriller   \n",
       "3   11.173104      136   Action|Adventure|Science Fiction|Fantasy   \n",
       "4    9.335014      137                      Action|Crime|Thriller   \n",
       "\n",
       "   vote_average    budget_adj   revenue_adj  \n",
       "0           6.5  1.379999e+08  1.392446e+09  \n",
       "1           7.1  1.379999e+08  3.481613e+08  \n",
       "2           6.3  1.012000e+08  2.716190e+08  \n",
       "3           7.5  1.839999e+08  1.902723e+09  \n",
       "4           7.3  1.747999e+08  1.385749e+09  "
      ]
     },
     "execution_count": 109,
     "metadata": {},
     "output_type": "execute_result"
    }
   ],
   "source": [
    "# 1. Remove unnecessary attributes and check\n",
    "\n",
    "df_movies = df_movies.drop(columns=['id', 'imdb_id', 'budget', 'revenue', 'original_title', 'cast', 'homepage', 'director', 'tagline', 'keywords', 'overview', 'production_companies', 'vote_count', 'release_date', 'release_year'])\n",
    "df_movies.head()"
   ]
  },
  {
   "cell_type": "code",
   "execution_count": 110,
   "metadata": {},
   "outputs": [
    {
     "name": "stdout",
     "output_type": "stream",
     "text": [
      "<class 'pandas.core.frame.DataFrame'>\n",
      "Int64Index: 10843 entries, 0 to 10865\n",
      "Data columns (total 6 columns):\n",
      "popularity      10843 non-null float64\n",
      "runtime         10843 non-null int64\n",
      "genres          10843 non-null object\n",
      "vote_average    10843 non-null float64\n",
      "budget_adj      10843 non-null float64\n",
      "revenue_adj     10843 non-null float64\n",
      "dtypes: float64(4), int64(1), object(1)\n",
      "memory usage: 593.0+ KB\n"
     ]
    }
   ],
   "source": [
    "# 2. Remove rows with missing values and check\n",
    "\n",
    "df_movies = df_movies.dropna()\n",
    "df_movies.info()"
   ]
  },
  {
   "cell_type": "code",
   "execution_count": 111,
   "metadata": {},
   "outputs": [
    {
     "data": {
      "text/plain": [
       "0"
      ]
     },
     "execution_count": 111,
     "metadata": {},
     "output_type": "execute_result"
    }
   ],
   "source": [
    "# 3. Remove duplicate row and check\n",
    "\n",
    "df_movies = df_movies.drop_duplicates()\n",
    "sum(df_movies.duplicated())"
   ]
  },
  {
   "cell_type": "code",
   "execution_count": 113,
   "metadata": {},
   "outputs": [
    {
     "data": {
      "text/html": [
       "<div>\n",
       "<style scoped>\n",
       "    .dataframe tbody tr th:only-of-type {\n",
       "        vertical-align: middle;\n",
       "    }\n",
       "\n",
       "    .dataframe tbody tr th {\n",
       "        vertical-align: top;\n",
       "    }\n",
       "\n",
       "    .dataframe thead th {\n",
       "        text-align: right;\n",
       "    }\n",
       "</style>\n",
       "<table border=\"1\" class=\"dataframe\">\n",
       "  <thead>\n",
       "    <tr style=\"text-align: right;\">\n",
       "      <th></th>\n",
       "      <th>popularity</th>\n",
       "      <th>runtime</th>\n",
       "      <th>vote_average</th>\n",
       "      <th>budget_adj</th>\n",
       "      <th>revenue_adj</th>\n",
       "    </tr>\n",
       "  </thead>\n",
       "  <tbody>\n",
       "    <tr>\n",
       "      <th>count</th>\n",
       "      <td>3854.000000</td>\n",
       "      <td>3854.000000</td>\n",
       "      <td>3854.000000</td>\n",
       "      <td>3.854000e+03</td>\n",
       "      <td>3.854000e+03</td>\n",
       "    </tr>\n",
       "    <tr>\n",
       "      <th>mean</th>\n",
       "      <td>1.191554</td>\n",
       "      <td>109.220291</td>\n",
       "      <td>6.168163</td>\n",
       "      <td>4.423999e+07</td>\n",
       "      <td>1.370647e+08</td>\n",
       "    </tr>\n",
       "    <tr>\n",
       "      <th>std</th>\n",
       "      <td>1.475162</td>\n",
       "      <td>19.922820</td>\n",
       "      <td>0.794920</td>\n",
       "      <td>4.480925e+07</td>\n",
       "      <td>2.161114e+08</td>\n",
       "    </tr>\n",
       "    <tr>\n",
       "      <th>min</th>\n",
       "      <td>0.001117</td>\n",
       "      <td>15.000000</td>\n",
       "      <td>2.200000</td>\n",
       "      <td>9.693980e-01</td>\n",
       "      <td>2.370705e+00</td>\n",
       "    </tr>\n",
       "    <tr>\n",
       "      <th>25%</th>\n",
       "      <td>0.462368</td>\n",
       "      <td>95.000000</td>\n",
       "      <td>5.700000</td>\n",
       "      <td>1.309053e+07</td>\n",
       "      <td>1.835735e+07</td>\n",
       "    </tr>\n",
       "    <tr>\n",
       "      <th>50%</th>\n",
       "      <td>0.797511</td>\n",
       "      <td>106.000000</td>\n",
       "      <td>6.200000</td>\n",
       "      <td>3.001611e+07</td>\n",
       "      <td>6.173068e+07</td>\n",
       "    </tr>\n",
       "    <tr>\n",
       "      <th>75%</th>\n",
       "      <td>1.368324</td>\n",
       "      <td>119.000000</td>\n",
       "      <td>6.700000</td>\n",
       "      <td>6.061307e+07</td>\n",
       "      <td>1.632577e+08</td>\n",
       "    </tr>\n",
       "    <tr>\n",
       "      <th>max</th>\n",
       "      <td>32.985763</td>\n",
       "      <td>338.000000</td>\n",
       "      <td>8.400000</td>\n",
       "      <td>4.250000e+08</td>\n",
       "      <td>2.827124e+09</td>\n",
       "    </tr>\n",
       "  </tbody>\n",
       "</table>\n",
       "</div>"
      ],
      "text/plain": [
       "        popularity      runtime  vote_average    budget_adj   revenue_adj\n",
       "count  3854.000000  3854.000000   3854.000000  3.854000e+03  3.854000e+03\n",
       "mean      1.191554   109.220291      6.168163  4.423999e+07  1.370647e+08\n",
       "std       1.475162    19.922820      0.794920  4.480925e+07  2.161114e+08\n",
       "min       0.001117    15.000000      2.200000  9.693980e-01  2.370705e+00\n",
       "25%       0.462368    95.000000      5.700000  1.309053e+07  1.835735e+07\n",
       "50%       0.797511   106.000000      6.200000  3.001611e+07  6.173068e+07\n",
       "75%       1.368324   119.000000      6.700000  6.061307e+07  1.632577e+08\n",
       "max      32.985763   338.000000      8.400000  4.250000e+08  2.827124e+09"
      ]
     },
     "execution_count": 113,
     "metadata": {},
     "output_type": "execute_result"
    }
   ],
   "source": [
    "# 4. Remove outliers for runtime, revenue_adj and budget_adj where the values are 0 and check\n",
    "\n",
    "df_movies = df_movies[(df_movies['runtime'] > 0)]\n",
    "df_movies = df_movies[(df_movies['budget_adj'] > 0)]\n",
    "df_movies = df_movies[(df_movies['revenue_adj'] > 0)]\n",
    "\n",
    "df_movies.describe()"
   ]
  },
  {
   "cell_type": "code",
   "execution_count": 114,
   "metadata": {},
   "outputs": [
    {
     "data": {
      "text/html": [
       "<div>\n",
       "<style scoped>\n",
       "    .dataframe tbody tr th:only-of-type {\n",
       "        vertical-align: middle;\n",
       "    }\n",
       "\n",
       "    .dataframe tbody tr th {\n",
       "        vertical-align: top;\n",
       "    }\n",
       "\n",
       "    .dataframe thead th {\n",
       "        text-align: right;\n",
       "    }\n",
       "</style>\n",
       "<table border=\"1\" class=\"dataframe\">\n",
       "  <thead>\n",
       "    <tr style=\"text-align: right;\">\n",
       "      <th></th>\n",
       "      <th>popularity</th>\n",
       "      <th>runtime</th>\n",
       "      <th>genres</th>\n",
       "      <th>vote_average</th>\n",
       "      <th>profit_adj</th>\n",
       "    </tr>\n",
       "  </thead>\n",
       "  <tbody>\n",
       "    <tr>\n",
       "      <th>0</th>\n",
       "      <td>32.985763</td>\n",
       "      <td>124</td>\n",
       "      <td>Action|Adventure|Science Fiction|Thriller</td>\n",
       "      <td>6.5</td>\n",
       "      <td>1254.445953</td>\n",
       "    </tr>\n",
       "    <tr>\n",
       "      <th>1</th>\n",
       "      <td>28.419936</td>\n",
       "      <td>120</td>\n",
       "      <td>Action|Adventure|Science Fiction|Thriller</td>\n",
       "      <td>7.1</td>\n",
       "      <td>210.161353</td>\n",
       "    </tr>\n",
       "    <tr>\n",
       "      <th>2</th>\n",
       "      <td>13.112507</td>\n",
       "      <td>119</td>\n",
       "      <td>Adventure|Science Fiction|Thriller</td>\n",
       "      <td>6.3</td>\n",
       "      <td>170.419070</td>\n",
       "    </tr>\n",
       "    <tr>\n",
       "      <th>3</th>\n",
       "      <td>11.173104</td>\n",
       "      <td>136</td>\n",
       "      <td>Action|Adventure|Science Fiction|Fantasy</td>\n",
       "      <td>7.5</td>\n",
       "      <td>1718.723211</td>\n",
       "    </tr>\n",
       "    <tr>\n",
       "      <th>4</th>\n",
       "      <td>9.335014</td>\n",
       "      <td>137</td>\n",
       "      <td>Action|Crime|Thriller</td>\n",
       "      <td>7.3</td>\n",
       "      <td>1210.948878</td>\n",
       "    </tr>\n",
       "  </tbody>\n",
       "</table>\n",
       "</div>"
      ],
      "text/plain": [
       "   popularity  runtime                                     genres  \\\n",
       "0   32.985763      124  Action|Adventure|Science Fiction|Thriller   \n",
       "1   28.419936      120  Action|Adventure|Science Fiction|Thriller   \n",
       "2   13.112507      119         Adventure|Science Fiction|Thriller   \n",
       "3   11.173104      136   Action|Adventure|Science Fiction|Fantasy   \n",
       "4    9.335014      137                      Action|Crime|Thriller   \n",
       "\n",
       "   vote_average   profit_adj  \n",
       "0           6.5  1254.445953  \n",
       "1           7.1   210.161353  \n",
       "2           6.3   170.419070  \n",
       "3           7.5  1718.723211  \n",
       "4           7.3  1210.948878  "
      ]
     },
     "execution_count": 114,
     "metadata": {},
     "output_type": "execute_result"
    }
   ],
   "source": [
    "# 5. Create 'profit' attribute in millions from revenue and budget and remove the budget and revenue attribute.\n",
    "\n",
    "df_movies['profit_adj'] = ((df_movies['revenue_adj'] - df_movies['budget_adj']))/1e6\n",
    "df_movies = df_movies.drop(columns={'budget_adj', 'revenue_adj'})\n",
    "df_movies.head()"
   ]
  },
  {
   "cell_type": "code",
   "execution_count": 115,
   "metadata": {},
   "outputs": [
    {
     "data": {
      "text/html": [
       "<div>\n",
       "<style scoped>\n",
       "    .dataframe tbody tr th:only-of-type {\n",
       "        vertical-align: middle;\n",
       "    }\n",
       "\n",
       "    .dataframe tbody tr th {\n",
       "        vertical-align: top;\n",
       "    }\n",
       "\n",
       "    .dataframe thead th {\n",
       "        text-align: right;\n",
       "    }\n",
       "</style>\n",
       "<table border=\"1\" class=\"dataframe\">\n",
       "  <thead>\n",
       "    <tr style=\"text-align: right;\">\n",
       "      <th></th>\n",
       "      <th>genres</th>\n",
       "      <th>popularity</th>\n",
       "      <th>vote_average</th>\n",
       "      <th>profit_adj</th>\n",
       "    </tr>\n",
       "  </thead>\n",
       "  <tbody>\n",
       "    <tr>\n",
       "      <th>0</th>\n",
       "      <td>Action</td>\n",
       "      <td>32.985763</td>\n",
       "      <td>6.5</td>\n",
       "      <td>1254.445953</td>\n",
       "    </tr>\n",
       "    <tr>\n",
       "      <th>1</th>\n",
       "      <td>Adventure</td>\n",
       "      <td>32.985763</td>\n",
       "      <td>6.5</td>\n",
       "      <td>1254.445953</td>\n",
       "    </tr>\n",
       "    <tr>\n",
       "      <th>2</th>\n",
       "      <td>Science Fiction</td>\n",
       "      <td>32.985763</td>\n",
       "      <td>6.5</td>\n",
       "      <td>1254.445953</td>\n",
       "    </tr>\n",
       "    <tr>\n",
       "      <th>3</th>\n",
       "      <td>Thriller</td>\n",
       "      <td>32.985763</td>\n",
       "      <td>6.5</td>\n",
       "      <td>1254.445953</td>\n",
       "    </tr>\n",
       "    <tr>\n",
       "      <th>4</th>\n",
       "      <td>Action</td>\n",
       "      <td>28.419936</td>\n",
       "      <td>7.1</td>\n",
       "      <td>210.161353</td>\n",
       "    </tr>\n",
       "    <tr>\n",
       "      <th>5</th>\n",
       "      <td>Adventure</td>\n",
       "      <td>28.419936</td>\n",
       "      <td>7.1</td>\n",
       "      <td>210.161353</td>\n",
       "    </tr>\n",
       "    <tr>\n",
       "      <th>6</th>\n",
       "      <td>Science Fiction</td>\n",
       "      <td>28.419936</td>\n",
       "      <td>7.1</td>\n",
       "      <td>210.161353</td>\n",
       "    </tr>\n",
       "    <tr>\n",
       "      <th>7</th>\n",
       "      <td>Thriller</td>\n",
       "      <td>28.419936</td>\n",
       "      <td>7.1</td>\n",
       "      <td>210.161353</td>\n",
       "    </tr>\n",
       "    <tr>\n",
       "      <th>8</th>\n",
       "      <td>Adventure</td>\n",
       "      <td>13.112507</td>\n",
       "      <td>6.3</td>\n",
       "      <td>170.419070</td>\n",
       "    </tr>\n",
       "    <tr>\n",
       "      <th>9</th>\n",
       "      <td>Science Fiction</td>\n",
       "      <td>13.112507</td>\n",
       "      <td>6.3</td>\n",
       "      <td>170.419070</td>\n",
       "    </tr>\n",
       "  </tbody>\n",
       "</table>\n",
       "</div>"
      ],
      "text/plain": [
       "            genres  popularity  vote_average   profit_adj\n",
       "0           Action   32.985763           6.5  1254.445953\n",
       "1        Adventure   32.985763           6.5  1254.445953\n",
       "2  Science Fiction   32.985763           6.5  1254.445953\n",
       "3         Thriller   32.985763           6.5  1254.445953\n",
       "4           Action   28.419936           7.1   210.161353\n",
       "5        Adventure   28.419936           7.1   210.161353\n",
       "6  Science Fiction   28.419936           7.1   210.161353\n",
       "7         Thriller   28.419936           7.1   210.161353\n",
       "8        Adventure   13.112507           6.3   170.419070\n",
       "9  Science Fiction   13.112507           6.3   170.419070"
      ]
     },
     "execution_count": 115,
     "metadata": {},
     "output_type": "execute_result"
    }
   ],
   "source": [
    "# 6. Create a new dataframes for genres where there is only 1 genre per row\n",
    "\n",
    "df_genres = df_movies.drop(columns={'runtime'})\n",
    "\n",
    "# FUNCTION REFERENCE: https://gist.github.com/jlln/338b4b0b55bd6984f883\n",
    "def splitDataFrameList(df,target_column,separator):\n",
    "    def splitListToRows(row,row_accumulator,target_column,separator):\n",
    "        split_row = row[target_column].split(separator)\n",
    "        for s in split_row:\n",
    "            new_row = row.to_dict()\n",
    "            new_row[target_column] = s\n",
    "            row_accumulator.append(new_row)\n",
    "    new_rows = []\n",
    "    df.apply(splitListToRows,axis=1,args = (new_rows,target_column,separator))\n",
    "    new_df = pd.DataFrame(new_rows)\n",
    "    return new_df\n",
    "\n",
    "df_genres = splitDataFrameList(df_genres,'genres','|')\n",
    "df_genres = df_genres[['genres', 'popularity', 'vote_average', 'profit_adj']]\n",
    "df_genres.head(10)"
   ]
  },
  {
   "cell_type": "code",
   "execution_count": 116,
   "metadata": {},
   "outputs": [
    {
     "data": {
      "text/html": [
       "<div>\n",
       "<style scoped>\n",
       "    .dataframe tbody tr th:only-of-type {\n",
       "        vertical-align: middle;\n",
       "    }\n",
       "\n",
       "    .dataframe tbody tr th {\n",
       "        vertical-align: top;\n",
       "    }\n",
       "\n",
       "    .dataframe thead th {\n",
       "        text-align: right;\n",
       "    }\n",
       "</style>\n",
       "<table border=\"1\" class=\"dataframe\">\n",
       "  <thead>\n",
       "    <tr style=\"text-align: right;\">\n",
       "      <th></th>\n",
       "      <th>runtime</th>\n",
       "      <th>popularity</th>\n",
       "      <th>vote_average</th>\n",
       "      <th>profit_adj</th>\n",
       "    </tr>\n",
       "  </thead>\n",
       "  <tbody>\n",
       "    <tr>\n",
       "      <th>0</th>\n",
       "      <td>124</td>\n",
       "      <td>32.985763</td>\n",
       "      <td>6.5</td>\n",
       "      <td>1254.445953</td>\n",
       "    </tr>\n",
       "    <tr>\n",
       "      <th>1</th>\n",
       "      <td>120</td>\n",
       "      <td>28.419936</td>\n",
       "      <td>7.1</td>\n",
       "      <td>210.161353</td>\n",
       "    </tr>\n",
       "    <tr>\n",
       "      <th>2</th>\n",
       "      <td>119</td>\n",
       "      <td>13.112507</td>\n",
       "      <td>6.3</td>\n",
       "      <td>170.419070</td>\n",
       "    </tr>\n",
       "    <tr>\n",
       "      <th>3</th>\n",
       "      <td>136</td>\n",
       "      <td>11.173104</td>\n",
       "      <td>7.5</td>\n",
       "      <td>1718.723211</td>\n",
       "    </tr>\n",
       "    <tr>\n",
       "      <th>4</th>\n",
       "      <td>137</td>\n",
       "      <td>9.335014</td>\n",
       "      <td>7.3</td>\n",
       "      <td>1210.948878</td>\n",
       "    </tr>\n",
       "    <tr>\n",
       "      <th>5</th>\n",
       "      <td>156</td>\n",
       "      <td>9.110700</td>\n",
       "      <td>7.2</td>\n",
       "      <td>366.114302</td>\n",
       "    </tr>\n",
       "    <tr>\n",
       "      <th>6</th>\n",
       "      <td>125</td>\n",
       "      <td>8.654359</td>\n",
       "      <td>5.8</td>\n",
       "      <td>262.755138</td>\n",
       "    </tr>\n",
       "    <tr>\n",
       "      <th>7</th>\n",
       "      <td>141</td>\n",
       "      <td>7.667400</td>\n",
       "      <td>7.6</td>\n",
       "      <td>448.389698</td>\n",
       "    </tr>\n",
       "    <tr>\n",
       "      <th>8</th>\n",
       "      <td>91</td>\n",
       "      <td>7.404165</td>\n",
       "      <td>6.5</td>\n",
       "      <td>996.112047</td>\n",
       "    </tr>\n",
       "    <tr>\n",
       "      <th>9</th>\n",
       "      <td>94</td>\n",
       "      <td>6.326804</td>\n",
       "      <td>8.0</td>\n",
       "      <td>624.411646</td>\n",
       "    </tr>\n",
       "  </tbody>\n",
       "</table>\n",
       "</div>"
      ],
      "text/plain": [
       "   runtime  popularity  vote_average   profit_adj\n",
       "0      124   32.985763           6.5  1254.445953\n",
       "1      120   28.419936           7.1   210.161353\n",
       "2      119   13.112507           6.3   170.419070\n",
       "3      136   11.173104           7.5  1718.723211\n",
       "4      137    9.335014           7.3  1210.948878\n",
       "5      156    9.110700           7.2   366.114302\n",
       "6      125    8.654359           5.8   262.755138\n",
       "7      141    7.667400           7.6   448.389698\n",
       "8       91    7.404165           6.5   996.112047\n",
       "9       94    6.326804           8.0   624.411646"
      ]
     },
     "execution_count": 116,
     "metadata": {},
     "output_type": "execute_result"
    }
   ],
   "source": [
    "# 7. Remove genres in the original dataframe and organise the columns for easy analysis\n",
    "\n",
    "df_movies = df_movies.drop(columns={'genres'})\n",
    "df_movies = df_movies[['runtime', 'popularity', 'vote_average', 'profit_adj']]\n",
    "df_movies.head(10)"
   ]
  },
  {
   "cell_type": "markdown",
   "metadata": {},
   "source": [
    "#### Cleansing Conclusion\n",
    "\n",
    "We now have two dataframes ready to be explored and analyzed. All irrelevant attributes have been removed, rows with missing values, outliers and duplicate rows removed and the profit attribute have been created in units of millions.\n",
    "\n",
    "The first dataframe is `df_genres`. This will be used to answer the first question. It is formatted with only one genre per row with all the assumed relevant metrics that may be used to judge a movie's performance.\n",
    "\n",
    "The second dataframe is `df_movies`. This will be used to answer the second question. It's attributes are `runtime` along with the assumed relevant attributes to judge a movie's performance.\n",
    "\n",
    "Relevant attributes to judge a movie's performance are assumed to be `popularity`, `vote_average`, and `profit_adj`."
   ]
  },
  {
   "cell_type": "markdown",
   "metadata": {},
   "source": [
    "--------------"
   ]
  },
  {
   "cell_type": "markdown",
   "metadata": {},
   "source": [
    "<a id='eda'></a>\n",
    "## Exploratory Data Analysis\n",
    "\n",
    "This section explores and analyzes the data to answer the questions that were set in the introduction."
   ]
  },
  {
   "cell_type": "markdown",
   "metadata": {},
   "source": [
    "### Q1. How is the performance of the movie influenced by it's genre?\n",
    "\n",
    "Before we get into the performance metrics, let's explore the distribution of genres within the dataset with a bar chart."
   ]
  },
  {
   "cell_type": "code",
   "execution_count": 117,
   "metadata": {},
   "outputs": [
    {
     "data": {
      "image/png": "[encoded data removed]",
      "text/plain": [
       "<Figure size 432x288 with 1 Axes>"
      ]
     },
     "metadata": {
      "needs_background": "light"
     },
     "output_type": "display_data"
    }
   ],
   "source": [
    "# Plot a bar chart showing the distribution of genres in the dataset\n",
    "df_genres['genres'].value_counts().plot(kind='bar');"
   ]
  },
  {
   "cell_type": "markdown",
   "metadata": {},
   "source": [
    "Looking at the bar chart above, it is clear that the sample sizes for each genre varies significantly. This is important to note as it may affect the results of this analysis.\n",
    "\n",
    "To answer this question we are going to explore multiple variables that may be judged for the movie's performance. These are assumed to be `popularity`, `vote_average` and `profit_adj`."
   ]
  },
  {
   "cell_type": "code",
   "execution_count": 118,
   "metadata": {},
   "outputs": [
    {
     "name": "stdout",
     "output_type": "stream",
     "text": [
      "                 popularity  vote_average  profit_adj\n",
      "genres                                               \n",
      "Action             1.567116      6.036959  128.945315\n",
      "Adventure          1.867693      6.124433  190.151743\n",
      "Animation          1.710622      6.380597  207.485229\n",
      "Comedy             1.012321      6.026436   82.132064\n",
      "Crime              1.123961      6.300614   70.485067\n",
      "Documentary        0.294458      6.660000   19.426464\n",
      "Drama              1.001411      6.396754   66.666003\n",
      "Family             1.459043      6.127059  172.690036\n",
      "Fantasy            1.754315      6.062879  169.755235\n",
      "Foreign            0.179608      6.123077   -0.164464\n",
      "History            0.970674      6.578295   64.781876\n",
      "Horror             0.854005      5.710799   58.165843\n",
      "Music              0.899005      6.315441   99.368001\n",
      "Mystery            1.142613      6.194767   71.258378\n",
      "Romance            0.954889      6.189955   79.615540\n",
      "Science Fiction    1.873294      6.029287  136.535918\n",
      "TV Movie           0.273628      5.600000   51.438019\n",
      "Thriller           1.258950      6.066777   83.569128\n",
      "War                1.246129      6.586555   98.625164\n",
      "Western            1.134246      6.467308   68.483702\n"
     ]
    }
   ],
   "source": [
    "# Calculate the mean performance metrics for each genre\n",
    "\n",
    "genre_performance = df_genres.groupby('genres').mean()\n",
    "print(genre_performance)"
   ]
  },
  {
   "cell_type": "markdown",
   "metadata": {},
   "source": [
    "Now that we have some statistics of each of the performance metrics for each genre. To compare them on the same scale, we'll normalize the data."
   ]
  },
  {
   "cell_type": "code",
   "execution_count": 119,
   "metadata": {},
   "outputs": [
    {
     "name": "stdout",
     "output_type": "stream",
     "text": [
      "                 popularity  vote_average  profit_adj\n",
      "genres                                               \n",
      "Action             0.819224      0.412225    0.621767\n",
      "Adventure          0.996693      0.494748    0.916525\n",
      "Animation          0.903954      0.736412    1.000000\n",
      "Comedy             0.491657      0.402298    0.396324\n",
      "Crime              0.557573      0.660957    0.340234\n",
      "Documentary        0.067810      1.000000    0.094346\n",
      "Drama              0.485216      0.751655    0.321842\n",
      "Family             0.755415      0.497225    0.832433\n",
      "Fantasy            0.929751      0.436678    0.818300\n",
      "Foreign            0.000000      0.493469    0.000000\n",
      "History            0.467068      0.922919    0.312769\n",
      "Horror             0.398183      0.104527    0.280907\n",
      "Music              0.424752      0.674945    0.479329\n",
      "Mystery            0.568585      0.561101    0.343958\n",
      "Romance            0.457748      0.556561    0.384205\n",
      "Science Fiction    1.000000      0.404988    0.658322\n",
      "TV Movie           0.055512      0.000000    0.248507\n",
      "Thriller           0.637274      0.440356    0.403244\n",
      "War                0.629704      0.930712    0.475751\n",
      "Western            0.563645      0.818215    0.330596\n"
     ]
    }
   ],
   "source": [
    "# Normilize genre performance metrics\n",
    "\n",
    "def normalize(df):\n",
    "    n_df = (df - df.min()) / (df.max() - df.min())\n",
    "    return n_df\n",
    "\n",
    "n_genre_performance = normalize(genre_performance)\n",
    "print(n_genre_performance)"
   ]
  },
  {
   "cell_type": "markdown",
   "metadata": {},
   "source": [
    "Let's plot this data on a chart to see how each genre performs on each metric visually. Assuming profit is the most important performance metric, we'll sort the data by profit."
   ]
  },
  {
   "cell_type": "code",
   "execution_count": 120,
   "metadata": {},
   "outputs": [
    {
     "data": {
      "image/png": "[encoded data removed]",
      "text/plain": [
       "<Figure size 1800x504 with 1 Axes>"
      ]
     },
     "metadata": {
      "needs_background": "light"
     },
     "output_type": "display_data"
    }
   ],
   "source": [
    "# Create a plot of the data above on the same plot.\n",
    "\n",
    "n_genre_performance = n_genre_performance.sort_values(by='profit_adj')\n",
    "ind_labels = n_genre_performance.index.values\n",
    "ind = np.arange(len(ind_labels))\n",
    "bar_width = 0.2\n",
    "n_genre_performance.reindex(ind_labels)\n",
    "\n",
    "popular_performance = n_genre_performance['popularity']\n",
    "vote_performance = n_genre_performance['vote_average']\n",
    "profit_performance = n_genre_performance['profit_adj']\n",
    "\n",
    "plt.figure(figsize=(25,7));\n",
    "plt.bar(ind-bar_width, popular_performance, bar_width, label=\"Popularity\");\n",
    "plt.bar(ind, vote_performance, bar_width, label=\"Voting Average\");\n",
    "plt.bar(ind+bar_width, profit_performance, bar_width, label=\"Profit\");\n",
    "\n",
    "plt.title(\"Genre Performance by Popularity, Vote Average and Profit\");\n",
    "plt.xlabel(\"Genres\");\n",
    "plt.xticks(ind, ind_labels);\n",
    "plt.legend();"
   ]
  },
  {
   "cell_type": "markdown",
   "metadata": {},
   "source": [
    "Looking at the chart above, there is somewhat a positive correlation between popularity and profit. Let's explore this further with a scatter plot between these variables."
   ]
  },
  {
   "cell_type": "code",
   "execution_count": 121,
   "metadata": {},
   "outputs": [
    {
     "data": {
      "image/png": "[encoded data removed]",
      "text/plain": [
       "<Figure size 1800x504 with 1 Axes>"
      ]
     },
     "metadata": {
      "needs_background": "light"
     },
     "output_type": "display_data"
    }
   ],
   "source": [
    "# Plot a scatter plot between popularity and profit\n",
    "\n",
    "plt.figure(figsize=(25,7));\n",
    "plt.scatter(df_genres['profit_adj'], df_genres['popularity']);\n",
    "\n",
    "plt.title(\"Correlation Between Popularity and Profit\");\n",
    "plt.xlabel(\"Profit\");\n",
    "plt.ylabel(\"Popularity\");\n",
    "plt.ylim(0, 15);"
   ]
  },
  {
   "cell_type": "markdown",
   "metadata": {},
   "source": [
    "Looking at the scatter plot above, we can see that popularity is positively correlated with profit. With this knowledge, we'll answer this question in 2 parts. The first part is how performance measured in popularity and profit is influenced by genre and the second part is how performance measured in voting average is influenced by genre. \n",
    "\n",
    "To answer the first part, we'll combine popularity and profit and plot a chart showing the genre influence. We'll combine these 2 metrics by adding them together and normalizing them."
   ]
  },
  {
   "cell_type": "code",
   "execution_count": 122,
   "metadata": {},
   "outputs": [
    {
     "data": {
      "image/png": "[encoded data removed]",
      "text/plain": [
       "<Figure size 1800x504 with 1 Axes>"
      ]
     },
     "metadata": {
      "needs_background": "light"
     },
     "output_type": "display_data"
    }
   ],
   "source": [
    "# Combine and normalize profit and popularity\n",
    "\n",
    "n_genre_performance['pop_profit'] = (n_genre_performance['popularity'] + n_genre_performance['profit_adj'])/2\n",
    "\n",
    "n_genre_performance = n_genre_performance.sort_values(by='pop_profit')\n",
    "ind_labels = n_genre_performance.index.values\n",
    "ind = np.arange(len(ind_labels))\n",
    "bar_width = 0.5\n",
    "n_genre_performance.reindex(ind_labels)\n",
    "\n",
    "performance = n_genre_performance['pop_profit']\n",
    "\n",
    "plt.figure(figsize=(25,7));\n",
    "plt.bar(ind, performance, bar_width);\n",
    "\n",
    "plt.title(\"Genre Performance by Popularity and Profit\");\n",
    "plt.xlabel(\"Genres\");\n",
    "plt.xticks(ind, ind_labels);\n",
    "plt.ylabel(\"Performance Rating\");"
   ]
  },
  {
   "cell_type": "markdown",
   "metadata": {},
   "source": [
    "#### Genre performance rating measured by popularity and profit:\n",
    "From the chart above, performance based on popularity and profit may be influenced by genre. The `adventure` genre has a tendency to perform best, while the `foreign` genre has a tendency to perform worst when measured on popularity and profit."
   ]
  },
  {
   "cell_type": "markdown",
   "metadata": {},
   "source": [
    "Now let's look at genre performance by voting average:"
   ]
  },
  {
   "cell_type": "code",
   "execution_count": 123,
   "metadata": {},
   "outputs": [
    {
     "data": {
      "image/png": "[encoded data removed]",
      "text/plain": [
       "<Figure size 1800x504 with 1 Axes>"
      ]
     },
     "metadata": {
      "needs_background": "light"
     },
     "output_type": "display_data"
    }
   ],
   "source": [
    "# Plot genre performance by voting average\n",
    "\n",
    "genre_performance = genre_performance.sort_values(by='vote_average')\n",
    "ind_labels = genre_performance.index.values\n",
    "ind = np.arange(len(ind_labels))\n",
    "bar_width = 0.5\n",
    "genre_performance.reindex(ind_labels)\n",
    "\n",
    "performance = genre_performance['vote_average'].tolist()\n",
    "\n",
    "plt.figure(figsize=(25,7));\n",
    "plt.bar(ind, performance, bar_width);\n",
    "\n",
    "plt.title(\"Genre Performance by Voting Average\");\n",
    "plt.xlabel(\"Genres\");\n",
    "plt.xticks(ind, ind_labels);\n",
    "plt.ylabel(\"Voting Average\");\n",
    "plt.ylim(5,7);"
   ]
  },
  {
   "cell_type": "markdown",
   "metadata": {},
   "source": [
    "#### Genre performance rating measured by vote average:\n",
    "From the chart above, performance based on voting average/rating may be influenced by genre. The `documentary`genre has a tendency to perform best, while the `TV Movie` genre has a tendency to perform worst when measured on voting average/rating. Interestingly, the `documentary`genre is one of lowest performing ones when measured by profit and popularity."
   ]
  },
  {
   "cell_type": "markdown",
   "metadata": {},
   "source": [
    "### Q2. How is the performance of the movie influenced by it's runtime?\n",
    "\n",
    "Before jumping into this questions, we will look at the distribution of the runtime data with a histogram and box plot."
   ]
  },
  {
   "cell_type": "code",
   "execution_count": 124,
   "metadata": {},
   "outputs": [
    {
     "data": {
      "image/png": "[encoded data removed]",
      "text/plain": [
       "<Figure size 432x288 with 1 Axes>"
      ]
     },
     "metadata": {
      "needs_background": "light"
     },
     "output_type": "display_data"
    }
   ],
   "source": [
    "# Plot a histogram of the runtime data\n",
    "df_movies['runtime'].hist();"
   ]
  },
  {
   "cell_type": "code",
   "execution_count": 125,
   "metadata": {},
   "outputs": [
    {
     "data": {
      "image/png": "[encoded data removed]",
      "text/plain": [
       "<Figure size 432x288 with 1 Axes>"
      ]
     },
     "metadata": {
      "needs_background": "light"
     },
     "output_type": "display_data"
    }
   ],
   "source": [
    "# Plot a boxplot of the runtime data\n",
    "df_movies['runtime'].plot(kind=\"box\");"
   ]
  },
  {
   "cell_type": "markdown",
   "metadata": {},
   "source": [
    "Looking at the charts above, we see quite a few outliers. Otherwise, `runtime` looks to be normally distributed.\n",
    "\n",
    "Since this question also looks at performance, we will answer this in 2 parts similarly to the last question. The first part will look at performance based on profit and popularity and the second will look performance based on voting average.\n",
    "\n",
    "#### Runtime performance rating measured by popularity and profit:\n",
    "\n",
    "We'll start by normalizing the runtime performance metrics. Then, we'll compute the performance rating based on popularity and profit and plot a chart showing the data."
   ]
  },
  {
   "cell_type": "code",
   "execution_count": 126,
   "metadata": {},
   "outputs": [
    {
     "data": {
      "text/html": [
       "<div>\n",
       "<style scoped>\n",
       "    .dataframe tbody tr th:only-of-type {\n",
       "        vertical-align: middle;\n",
       "    }\n",
       "\n",
       "    .dataframe tbody tr th {\n",
       "        vertical-align: top;\n",
       "    }\n",
       "\n",
       "    .dataframe thead th {\n",
       "        text-align: right;\n",
       "    }\n",
       "</style>\n",
       "<table border=\"1\" class=\"dataframe\">\n",
       "  <thead>\n",
       "    <tr style=\"text-align: right;\">\n",
       "      <th></th>\n",
       "      <th>runtime</th>\n",
       "      <th>popularity</th>\n",
       "      <th>vote_average</th>\n",
       "      <th>profit_adj</th>\n",
       "    </tr>\n",
       "  </thead>\n",
       "  <tbody>\n",
       "    <tr>\n",
       "      <th>0</th>\n",
       "      <td>124</td>\n",
       "      <td>1.000000</td>\n",
       "      <td>0.693548</td>\n",
       "      <td>0.527286</td>\n",
       "    </tr>\n",
       "    <tr>\n",
       "      <th>1</th>\n",
       "      <td>120</td>\n",
       "      <td>0.861577</td>\n",
       "      <td>0.790323</td>\n",
       "      <td>0.197239</td>\n",
       "    </tr>\n",
       "    <tr>\n",
       "      <th>2</th>\n",
       "      <td>119</td>\n",
       "      <td>0.397500</td>\n",
       "      <td>0.661290</td>\n",
       "      <td>0.184678</td>\n",
       "    </tr>\n",
       "    <tr>\n",
       "      <th>3</th>\n",
       "      <td>136</td>\n",
       "      <td>0.338703</td>\n",
       "      <td>0.854839</td>\n",
       "      <td>0.674021</td>\n",
       "    </tr>\n",
       "    <tr>\n",
       "      <th>4</th>\n",
       "      <td>137</td>\n",
       "      <td>0.282977</td>\n",
       "      <td>0.822581</td>\n",
       "      <td>0.513539</td>\n",
       "    </tr>\n",
       "  </tbody>\n",
       "</table>\n",
       "</div>"
      ],
      "text/plain": [
       "   runtime  popularity  vote_average  profit_adj\n",
       "0      124    1.000000      0.693548    0.527286\n",
       "1      120    0.861577      0.790323    0.197239\n",
       "2      119    0.397500      0.661290    0.184678\n",
       "3      136    0.338703      0.854839    0.674021\n",
       "4      137    0.282977      0.822581    0.513539"
      ]
     },
     "execution_count": 126,
     "metadata": {},
     "output_type": "execute_result"
    }
   ],
   "source": [
    "# Normalize the runtime performance metrics and check\n",
    "\n",
    "n_runtime_performance = normalize(df_movies)\n",
    "n_runtime_performance['runtime'] = df_movies['runtime']\n",
    "n_runtime_performance.head()"
   ]
  },
  {
   "cell_type": "code",
   "execution_count": 127,
   "metadata": {},
   "outputs": [
    {
     "data": {
      "text/html": [
       "<div>\n",
       "<style scoped>\n",
       "    .dataframe tbody tr th:only-of-type {\n",
       "        vertical-align: middle;\n",
       "    }\n",
       "\n",
       "    .dataframe tbody tr th {\n",
       "        vertical-align: top;\n",
       "    }\n",
       "\n",
       "    .dataframe thead th {\n",
       "        text-align: right;\n",
       "    }\n",
       "</style>\n",
       "<table border=\"1\" class=\"dataframe\">\n",
       "  <thead>\n",
       "    <tr style=\"text-align: right;\">\n",
       "      <th></th>\n",
       "      <th>runtime</th>\n",
       "      <th>popularity</th>\n",
       "      <th>vote_average</th>\n",
       "      <th>profit_adj</th>\n",
       "      <th>pop_profit</th>\n",
       "    </tr>\n",
       "  </thead>\n",
       "  <tbody>\n",
       "    <tr>\n",
       "      <th>0</th>\n",
       "      <td>124</td>\n",
       "      <td>1.000000</td>\n",
       "      <td>0.693548</td>\n",
       "      <td>0.527286</td>\n",
       "      <td>0.763643</td>\n",
       "    </tr>\n",
       "    <tr>\n",
       "      <th>1</th>\n",
       "      <td>120</td>\n",
       "      <td>0.861577</td>\n",
       "      <td>0.790323</td>\n",
       "      <td>0.197239</td>\n",
       "      <td>0.529408</td>\n",
       "    </tr>\n",
       "    <tr>\n",
       "      <th>2</th>\n",
       "      <td>119</td>\n",
       "      <td>0.397500</td>\n",
       "      <td>0.661290</td>\n",
       "      <td>0.184678</td>\n",
       "      <td>0.291089</td>\n",
       "    </tr>\n",
       "    <tr>\n",
       "      <th>3</th>\n",
       "      <td>136</td>\n",
       "      <td>0.338703</td>\n",
       "      <td>0.854839</td>\n",
       "      <td>0.674021</td>\n",
       "      <td>0.506362</td>\n",
       "    </tr>\n",
       "    <tr>\n",
       "      <th>4</th>\n",
       "      <td>137</td>\n",
       "      <td>0.282977</td>\n",
       "      <td>0.822581</td>\n",
       "      <td>0.513539</td>\n",
       "      <td>0.398258</td>\n",
       "    </tr>\n",
       "  </tbody>\n",
       "</table>\n",
       "</div>"
      ],
      "text/plain": [
       "   runtime  popularity  vote_average  profit_adj  pop_profit\n",
       "0      124    1.000000      0.693548    0.527286    0.763643\n",
       "1      120    0.861577      0.790323    0.197239    0.529408\n",
       "2      119    0.397500      0.661290    0.184678    0.291089\n",
       "3      136    0.338703      0.854839    0.674021    0.506362\n",
       "4      137    0.282977      0.822581    0.513539    0.398258"
      ]
     },
     "execution_count": 127,
     "metadata": {},
     "output_type": "execute_result"
    }
   ],
   "source": [
    "# Compute runtime performance rating based on popularity and profit\n",
    "\n",
    "n_runtime_performance['pop_profit'] = (n_runtime_performance['popularity'] + n_runtime_performance['profit_adj'])/2\n",
    "n_runtime_performance.head()"
   ]
  },
  {
   "cell_type": "code",
   "execution_count": 128,
   "metadata": {},
   "outputs": [
    {
     "data": {
      "image/png": "[encoded data removed]",
      "text/plain": [
       "<Figure size 1800x504 with 1 Axes>"
      ]
     },
     "metadata": {
      "needs_background": "light"
     },
     "output_type": "display_data"
    }
   ],
   "source": [
    "# Plot a chart to show the runtime performance rating by popularity and profit\n",
    "\n",
    "plt.figure(figsize=(25,7));\n",
    "plt.scatter(n_runtime_performance['runtime'], n_runtime_performance['pop_profit']);\n",
    "\n",
    "plt.title(\"Runtime Performance by Popularity and Profit\");\n",
    "plt.xlabel(\"Runtime (minutes)\");\n",
    "plt.ylabel(\"Performance Rating\");\n",
    "plt.ylim(0, 1);"
   ]
  },
  {
   "cell_type": "markdown",
   "metadata": {},
   "source": [
    "To see how the runtime influences performance, we'll calculate the average runtime of movies that have performed better than average."
   ]
  },
  {
   "cell_type": "code",
   "execution_count": 129,
   "metadata": {},
   "outputs": [
    {
     "data": {
      "text/plain": [
       "115.55887372013652"
      ]
     },
     "execution_count": 129,
     "metadata": {},
     "output_type": "execute_result"
    }
   ],
   "source": [
    "mean_performance = n_runtime_performance['pop_profit'].mean()\n",
    "(n_runtime_performance[(n_runtime_performance['pop_profit'] > mean_performance)])['runtime'].mean()"
   ]
  },
  {
   "cell_type": "markdown",
   "metadata": {},
   "source": [
    "From the results, we can see that the average runtime for movies that perform better than average is ~116 minutes (1 hour and 56 minutes)."
   ]
  },
  {
   "cell_type": "markdown",
   "metadata": {},
   "source": [
    "#### Runtime performance rating measured by voting average:\n",
    "\n",
    "Since we already have the normalized data, to analyze the runtime performance by voting average we'll plot a chart.  "
   ]
  },
  {
   "cell_type": "code",
   "execution_count": 130,
   "metadata": {},
   "outputs": [
    {
     "data": {
      "image/png": "[encoded data removed]",
      "text/plain": [
       "<Figure size 1800x504 with 1 Axes>"
      ]
     },
     "metadata": {
      "needs_background": "light"
     },
     "output_type": "display_data"
    }
   ],
   "source": [
    "# Plot a chart to show the runtime performance rating by voting average\n",
    "\n",
    "plt.figure(figsize=(25,7));\n",
    "plt.scatter(n_runtime_performance['runtime'], n_runtime_performance['vote_average']);\n",
    "\n",
    "plt.title(\"Runtime Performance by Voting Average\");\n",
    "plt.xlabel(\"Runtime (minutes)\");\n",
    "plt.ylabel(\"Voting Average\");\n",
    "plt.ylim(0, 1);"
   ]
  },
  {
   "cell_type": "markdown",
   "metadata": {},
   "source": [
    "To see how the runtime influences voting average performance, we'll calculate the average runtime of movies that have performed better than average based on voting average."
   ]
  },
  {
   "cell_type": "code",
   "execution_count": 131,
   "metadata": {},
   "outputs": [
    {
     "data": {
      "text/plain": [
       "114.43638170974155"
      ]
     },
     "execution_count": 131,
     "metadata": {},
     "output_type": "execute_result"
    }
   ],
   "source": [
    "mean_vote = n_runtime_performance['vote_average'].mean()\n",
    "(n_runtime_performance[(n_runtime_performance['vote_average'] > mean_vote)])['runtime'].mean()"
   ]
  },
  {
   "cell_type": "markdown",
   "metadata": {},
   "source": [
    "From the results, we can see that the average runtime for movies that perform better than average based on the voting average is ~114 minutes (1 hour and 54 minutes). This is interesting because the number is also similar when performance is measured by profit and popularity."
   ]
  },
  {
   "cell_type": "markdown",
   "metadata": {},
   "source": [
    "-----"
   ]
  },
  {
   "cell_type": "markdown",
   "metadata": {},
   "source": [
    "<a id='conclusions'></a>\n",
    "## Conclusions"
   ]
  },
  {
   "cell_type": "markdown",
   "metadata": {
    "collapsed": true
   },
   "source": [
    "We looked into the TMDb movie data to explore the influence genre and running time to the performance of movies.\n",
    "From the dataset, the attributes assumed to be relevant with regards to performance were profit, popularity and movie rating.\n",
    "\n",
    "While analyzing the data, we split our analysis into two parts. Because of their positive correlation, the first part focused on performance by profit and popularity. The second part focused on performance by voting average."
   ]
  },
  {
   "cell_type": "markdown",
   "metadata": {},
   "source": [
    "### Part 1: Performance by Profit and Popularity\n",
    "\n",
    "**Q1. How is the performance of the movie influenced by it's genre?**\n",
    "\n",
    "Some genres have the tendency to perform better than others. Specifically, the `Adventure` genre has the tedency to perform best, while the `Foreign` genre has the tendency to perform worst when performance is measured by profit and popularity.\n",
    "\n",
    "**Q2. How is the performance of the movie influenced by it's running time?**\n",
    "\n",
    "From the data, movies that have a runtime of approximately 1 hour and 56 minutes tend to perform the best when performance is measured by profit and popularity."
   ]
  },
  {
   "cell_type": "markdown",
   "metadata": {},
   "source": [
    "### Part 2: Performance by Voting Average\n",
    "\n",
    "**Q1. How is the performance of the movie influenced by it's genre?**\n",
    "\n",
    "Some genres have the tendency to perform better than others. Specifically, the `Documentary` genre has the tedency to perform best, while the `TV Movie` genre has the tendency to perform worst when performance is measured by voting average.\n",
    "\n",
    "**Q2. How is the performance of the movie influenced by it's running time?**\n",
    "\n",
    "From the data, movies that have a runtime of approximately 1 hour and 54 minutes tend to perform the best. This is interesting because it seems that regardless of the performance metrics used, the optimal runtime remains similar."
   ]
  },
  {
   "cell_type": "markdown",
   "metadata": {},
   "source": [
    "### Limitations\n",
    "\n",
    "The dataset analyzed here has a few limitations that may cause the presented conclusions to be inaccurate. These limitations include:\n",
    "\n",
    "- **Runtime, Budget and Revenue Outliers** - the number of outliers in this dataset is significant. Specifically, this is referring to the number of movies listed with a budget, revenue or runtime as 0. Since these outliers have been removed, it may mean that the results are more biased to the remaining sample.\n",
    "\n",
    "\n",
    "- **Vote Counts** - some of the listed movies have quite low number of vote counts. Because of the low number of vote counts, the voting average may not be as accurate as it should be. In this case, since we are looking at performance by voting average as well as others, it could have affected our results.\n",
    "\n",
    "\n",
    "- **Genre Sample Sizes** - The dataset had a good spread of different genres but the number of movies in each genre was very inconsistent. For this reason, when measuring performance by genre, the results may be inaccurate for some genres. In particular, genres with very small sample sizes such as TV Movie, Foreign and Documentaries.\n",
    "\n",
    "\n",
    "- **Profit Data** - Even though with some assumptions, we were able to calculate the profit each movie made, having the actual profit could significantly effect the results of the analysis.\n",
    "\n",
    "*It is important to note that these results are only a tendency based on this data. It may not always hold true.*\n",
    "\n",
    "--------"
   ]
  }
 ],
 "metadata": {
  "kernelspec": {
   "display_name": "Python 3",
   "language": "python",
   "name": "python3"
  },
  "language_info": {
   "codemirror_mode": {
    "name": "ipython",
    "version": 3
   },
   "file_extension": ".py",
   "mimetype": "text/x-python",
   "name": "python",
   "nbconvert_exporter": "python",
   "pygments_lexer": "ipython3",
   "version": "3.7.3"
  }
 },
 "nbformat": 4,
 "nbformat_minor": 2
}
